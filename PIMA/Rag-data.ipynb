{
 "cells": [
  {
   "cell_type": "code",
   "execution_count": 2,
   "metadata": {},
   "outputs": [
    {
     "name": "stdout",
     "output_type": "stream",
     "text": [
      "{'question': 'What are the treatment options for prediabetes?', 'context': 'Treatment options for prediabetes: blood sugar monitoring, insulin therapy', 'answer': 'insulin therapy. Consult your doctor for a personalized plan.'}\n"
     ]
    }
   ],
   "source": [
    "import random\n",
    "\n",
    "def generate_diabetes_dataset(num_samples=200):\n",
    "    \"\"\"Generates a synthetic dataset for diabetes-related questions and answers.\"\"\"\n",
    "\n",
    "    conditions = [\"type 1 diabetes\", \"type 2 diabetes\", \"gestational diabetes\", \"prediabetes\"]\n",
    "    symptoms = [\"frequent urination\", \"excessive thirst\", \"unexplained weight loss\", \"increased hunger\", \"blurred vision\", \"slow-healing sores\", \"frequent infections\", \"tingling or numbness in hands or feet\", \"fatigue\"]\n",
    "    complications = [\"heart disease\", \"stroke\", \"kidney disease\", \"nerve damage\", \"eye damage\", \"foot problems\", \"skin conditions\", \"hearing impairment\", \"Alzheimer's disease\"]\n",
    "    treatments = [\"insulin therapy\", \"oral medications\", \"lifestyle changes (diet, exercise)\", \"blood sugar monitoring\", \"weight management\"]\n",
    "    risk_factors = [\"family history\", \"obesity\", \"inactivity\", \"age\", \"high blood pressure\", \"high cholesterol\", \"gestational diabetes history\", \"polycystic ovary syndrome (PCOS)\", \"certain ethnicities\"]\n",
    "    tests = [\"A1C test\", \"fasting blood sugar test\", \"oral glucose tolerance test\", \"random blood sugar test\"]\n",
    "    food_groups = [\"carbohydrates\", \"proteins\", \"fats\", \"fiber\"]\n",
    "    questions = [\n",
    "        \"What are the symptoms of [condition]?\",\n",
    "        \"What are the risk factors for [condition]?\",\n",
    "        \"How is [condition] diagnosed?\",\n",
    "        \"What are the complications of [condition]?\",\n",
    "        \"What are the treatment options for [condition]?\",\n",
    "        \"How can I manage my [condition]?\",\n",
    "        \"What foods should I avoid with [condition]?\",\n",
    "        \"What is a good diet for [condition]?\",\n",
    "        \"What is the [test]?\",\n",
    "        \"How often should I get a [test]?\",\n",
    "        \"What are the long term effects of [condition]?\",\n",
    "        \"How does exercise help with [condition]?\",\n",
    "        \"What are healthy [food_group] for diabetics?\",\n",
    "    ]\n",
    "\n",
    "    data = []\n",
    "    for _ in range(num_samples):\n",
    "        condition = random.choice(conditions)\n",
    "        question_template = random.choice(questions)\n",
    "        question = question_template.replace(\"[condition]\", condition)\n",
    "\n",
    "        if \"[test]\" in question:\n",
    "            test = random.choice(tests)\n",
    "            question = question.replace(\"[test]\", test)\n",
    "            context = f\"Information about the {test}:...\" #replace with more realistic context if needed.\n",
    "            answer = f\"The {test} is used to diagnose...\" #replace with more realistic answer.\n",
    "        elif \"[food_group]\" in question:\n",
    "            food_group = random.choice(food_groups)\n",
    "            question = question.replace(\"[food_group]\", food_group)\n",
    "            context = f\"Information about healthy {food_group} for diabetics:...\" #replace with more realistic context if needed\n",
    "            answer = f\"Healthy {food_group} options include...\" #replace with more realistic answer.\n",
    "\n",
    "        elif \"symptoms\" in question:\n",
    "            context = f\"Symptoms of {condition}: \" + \", \".join(random.sample(symptoms, random.randint(3, 5)))\n",
    "            answer = \", \".join(random.sample(symptoms, random.randint(2, 4))) + \". Consult a doctor if you experience these.\"\n",
    "        elif \"risk factors\" in question:\n",
    "            context = f\"Risk factors for {condition}: \" + \", \".join(random.sample(risk_factors, random.randint(3, 5)))\n",
    "            answer = \", \".join(random.sample(risk_factors, random.randint(2, 4))) + \". Consult your doctor for a risk assessment.\"\n",
    "        elif \"diagnosed\" in question:\n",
    "            context = f\"Diagnosis of {condition}: \" + \", \".join(random.sample(tests, random.randint(1, 2)))\n",
    "            answer = \"Diagnosis typically involves \" + \", \".join(random.sample(tests, random.randint(1, 2))) + \".\"\n",
    "        elif \"complications\" in question:\n",
    "            context = f\"Potential complications of {condition}: \" + \", \".join(random.sample(complications, random.randint(3, 5)))\n",
    "            answer = \", \".join(random.sample(complications, random.randint(2, 4))) + \". Manage your blood sugar to reduce risk.\"\n",
    "        elif \"treatment\" in question or \"manage\" in question:\n",
    "            context = f\"Treatment options for {condition}: \" + \", \".join(random.sample(treatments, random.randint(2, 4)))\n",
    "            answer = \", \".join(random.sample(treatments, random.randint(1, 3))) + \". Consult your doctor for a personalized plan.\"\n",
    "        elif \"foods to avoid\" in question:\n",
    "            context = \"Foods to avoid: sugary drinks, processed foods, high-carb meals.\"\n",
    "            answer = \"Limit sugary drinks, processed foods, and high-carb meals.\"\n",
    "        elif \"good diet\" in question:\n",
    "            context = \"A good diet for diabetics includes: lean proteins, whole grains, non-starchy vegetables.\"\n",
    "            answer = \"Focus on lean proteins, whole grains, and non-starchy vegetables.\"\n",
    "        elif \"long term effects\" in question:\n",
    "            context = \"Long term effects include: \" + \", \".join(random.sample(complications, random.randint(2, 4)))\n",
    "            answer = \", \".join(random.sample(complications, random.randint(1, 3))) + \". Regular checkups are important.\"\n",
    "        elif \"exercise help\" in question:\n",
    "            context = \"Exercise helps lower blood sugar and improve insulin sensitivity.\"\n",
    "            answer = \"Regular exercise helps manage blood sugar levels.\"\n",
    "        else:\n",
    "            context = \"General information about diabetes.\"\n",
    "            answer = \"Diabetes is a chronic condition...\"\n",
    "\n",
    "        data.append({\"question\": question, \"context\": context, \"answer\": answer})\n",
    "    return data\n",
    "\n",
    "diabetes_data = generate_diabetes_dataset()\n",
    "\n",
    "# Example output\n",
    "print(diabetes_data[0])"
   ]
  },
  {
   "cell_type": "code",
   "execution_count": 3,
   "metadata": {},
   "outputs": [],
   "source": [
    "import json\n",
    "def save_to_text_file(data, filename=\"diabetes_dataset.json\"):\n",
    "    \"\"\"Saves the dataset to a text file, with one JSON object per line.\"\"\"\n",
    "    with open(filename, \"w\") as f:\n",
    "        for item in data:\n",
    "            f.write(json.dumps(item) + \"\\n\")\n",
    "\n",
    "save_to_text_file(diabetes_data)"
   ]
  },
  {
   "cell_type": "code",
   "execution_count": null,
   "metadata": {},
   "outputs": [],
   "source": []
  }
 ],
 "metadata": {
  "kernelspec": {
   "display_name": "latest_python",
   "language": "python",
   "name": "latest_python"
  },
  "language_info": {
   "codemirror_mode": {
    "name": "ipython",
    "version": 3
   },
   "file_extension": ".py",
   "mimetype": "text/x-python",
   "name": "python",
   "nbconvert_exporter": "python",
   "pygments_lexer": "ipython3",
   "version": "3.12.4"
  }
 },
 "nbformat": 4,
 "nbformat_minor": 4
}
