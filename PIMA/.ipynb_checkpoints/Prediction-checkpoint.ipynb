{
 "cells": [
  {
   "cell_type": "code",
   "execution_count": 4,
   "metadata": {},
   "outputs": [],
   "source": [
    "import pickle\n",
    "import pandas as pd\n",
    "\n",
    "with open('best_rf_model.pkl', 'rb') as f:\n",
    "    model = pickle.load(f)\n",
    "\n",
    "with open('feature_columns.pkl', 'rb') as f:\n",
    "    feature_columns = pickle.load(f)\n",
    "\n",
    "def predict_single(input_data):\n",
    "    input_df = pd.DataFrame([input_data], columns=feature_columns)\n",
    "    prediction = model.predict(input_df)\n",
    "    return prediction[0]"
   ]
  },
  {
   "cell_type": "code",
   "execution_count": 5,
   "metadata": {},
   "outputs": [
    {
     "name": "stdout",
     "output_type": "stream",
     "text": [
      "Predicted Outcome: 1.0\n"
     ]
    }
   ],
   "source": [
    "input_sample = {\n",
    "    'Pregnancies': 2,\n",
    "    'Glucose': 120,\n",
    "    'BloodPressure': 70,\n",
    "    'SkinThickness': 25,\n",
    "    'Insulin': 80,\n",
    "    'BMI': 28.5,\n",
    "    'DiabetesPedigreeFunction': 0.5,\n",
    "    'Age': 30\n",
    "}\n",
    "\n",
    "predicted_class = predict_single(input_sample)\n",
    "print(f\"Predicted Outcome: {predicted_class}\")"
   ]
  },
  {
   "cell_type": "code",
   "execution_count": null,
   "metadata": {},
   "outputs": [],
   "source": []
  },
  {
   "cell_type": "code",
   "execution_count": null,
   "metadata": {},
   "outputs": [],
   "source": []
  }
 ],
 "metadata": {
  "kernelspec": {
   "display_name": "Python 3",
   "language": "python",
   "name": "python3"
  },
  "language_info": {
   "codemirror_mode": {
    "name": "ipython",
    "version": 3
   },
   "file_extension": ".py",
   "mimetype": "text/x-python",
   "name": "python",
   "nbconvert_exporter": "python",
   "pygments_lexer": "ipython3",
   "version": "3.8.5"
  }
 },
 "nbformat": 4,
 "nbformat_minor": 4
}
